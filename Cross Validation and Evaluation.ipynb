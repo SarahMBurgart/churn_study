{
 "cells": [
  {
   "cell_type": "markdown",
   "metadata": {},
   "source": [
    "need to make the target from other data\n",
    "\n",
    "you should be able to see if there is data leakage\n",
    "\n",
    "keep in mind that you want to find deeper insight into what causes churn\n",
    "\n",
    "sklearn has a drop in multi layter perceptron \n",
    "\n",
    "recommend trying to fit several different models\n",
    "\n",
    "CV - use training set obviously. I like kfolds\n",
    "\n",
    "take the oppportunity to figure out how to use grid search\n",
    "\n",
    "- clean data\n",
    "\n",
    "- graphs for presentation\n",
    "\n",
    "derivative - line or plane tangent to a function (or whatever larger D ones are)\n",
    "\n",
    "regression - more definitive infromation\n",
    "\n",
    "- ROC Curve or AUC Curve - ROC is curve - and AUC is a number \n",
    "- framework of models\n",
    "- partial dependency plots\n",
    "- base-model, logistic regression\n",
    "- interpretation, *feature importance*\n",
    "- interpratation - linear regression\n",
    "- \n"
   ]
  },
  {
   "cell_type": "code",
   "execution_count": 4,
   "metadata": {},
   "outputs": [
    {
     "data": {
      "text/plain": [
       "<module 'churn_eval' from '/Users/sarahburgart/galvanize/week6/churn_case_study/churn_eval.py'>"
      ]
     },
     "execution_count": 4,
     "metadata": {},
     "output_type": "execute_result"
    }
   ],
   "source": [
    "import importlib\n",
    "import churn_eval #import the module here, so that it can be reloaded.\n",
    "importlib.reload(churn_eval)"
   ]
  },
  {
   "cell_type": "code",
   "execution_count": 5,
   "metadata": {},
   "outputs": [],
   "source": [
    "# import regressors\n",
    "from sklearn.tree import DecisionTreeRegressor\n",
    "from sklearn.ensemble import RandomForestRegressor\n",
    "from sklearn.ensemble import RandomForestClassifier\n",
    "from sklearn.ensemble import GradientBoostingRegressor\n",
    "from sklearn.ensemble import AdaBoostRegressor\n",
    "\n",
    "# import evaluations tools\n",
    "from sklearn.model_selection import train_test_split, cross_val_score\n",
    "from sklearn.model_selection import GridSearchCV\n",
    "from sklearn.metrics import mean_squared_error, r2_score\n",
    "\n",
    "# import plotting and libraries\n",
    "import matplotlib.pyplot as plt\n",
    "import numpy as np\n",
    "import pandas as pd\n",
    "\n",
    "import sys\n",
    "sys.path.insert(0,\"/Users/sarahburgart/galvanize/week6/random-forests/src/\")\n",
    "\n",
    "\n",
    "import roc\n",
    "from roc import plot_roc\n",
    "\n",
    "#import churn_eval as c\n",
    "\n",
    "%matplotlib inline\n",
    "\n",
    "plt.style.use('ggplot')"
   ]
  },
  {
   "cell_type": "code",
   "execution_count": 6,
   "metadata": {},
   "outputs": [
    {
     "data": {
      "text/plain": [
       "'\\nplot_roc(X, y, RandomForestClassifier, \"Random Forest\", n_estimators=20)\\nplot_roc(X, y, LogisticRegression, \"Logistic Regression\")\\nplot_roc(X, y,  DecisionTreeClassifier, \" DecisionTreeClassifier\")\\nplot_roc(X, y, KNeighborsClassifier, \"KNeighborsClassifier\")\\n\\n'"
      ]
     },
     "execution_count": 6,
     "metadata": {},
     "output_type": "execute_result"
    }
   ],
   "source": [
    "# plot rocs?\n",
    "'''\n",
    "plot_roc(X, y, RandomForestClassifier, \"Random Forest\", n_estimators=20)\n",
    "plot_roc(X, y, LogisticRegression, \"Logistic Regression\")\n",
    "plot_roc(X, y,  DecisionTreeClassifier, \" DecisionTreeClassifier\")\n",
    "plot_roc(X, y, KNeighborsClassifier, \"KNeighborsClassifier\")\n",
    "\n",
    "'''"
   ]
  },
  {
   "cell_type": "code",
   "execution_count": 7,
   "metadata": {},
   "outputs": [
    {
     "data": {
      "text/plain": [
       "((404, 13), (102, 13), (404,), (102,))"
      ]
     },
     "execution_count": 7,
     "metadata": {},
     "output_type": "execute_result"
    }
   ],
   "source": [
    "# test my functions\n",
    "from sklearn.datasets import load_boston\n",
    "boston = load_boston()\n",
    "# House Prices\n",
    "y = boston.target\n",
    "# The other 13 features\n",
    "X = boston.data\n",
    "# split into test and train \n",
    "Xtrain, Xtest, ytrain, ytest = train_test_split(X, y, test_size=.2, random_state=1)\n",
    "#Xtrain, ytrain\n",
    "Xtrain.shape, Xtest.shape, ytrain.shape, ytest.shape"
   ]
  },
  {
   "cell_type": "code",
   "execution_count": 8,
   "metadata": {},
   "outputs": [
    {
     "name": "stderr",
     "output_type": "stream",
     "text": [
      "/Users/sarahburgart/anaconda3/lib/python3.7/site-packages/sklearn/ensemble/forest.py:245: FutureWarning: The default value of n_estimators will change from 10 in version 0.20 to 100 in 0.22.\n",
      "  \"10 in version 0.20 to 100 in 0.22.\", FutureWarning)\n"
     ]
    }
   ],
   "source": [
    "rfr = RandomForestRegressor()\n",
    "gbr = GradientBoostingRegressor()\n",
    "\n",
    "rfr.fit(Xtrain, ytrain)\n",
    "gbr.fit(Xtrain, ytrain)\n",
    "\n",
    "models = [rfr, gbr]\n",
    "model_names = [\"rfr\", \"gbr\"]"
   ]
  },
  {
   "cell_type": "code",
   "execution_count": 9,
   "metadata": {},
   "outputs": [
    {
     "data": {
      "text/plain": [
       "['rfr Train CV | MSE: -23.337 | R2: 0.583 ',\n",
       " 'gbr Train CV | MSE: -18.591 | R2: 0.680 ']"
      ]
     },
     "execution_count": 9,
     "metadata": {},
     "output_type": "execute_result"
    }
   ],
   "source": [
    "churn_eval.cv_train_scores(models, model_names, X, y)"
   ]
  },
  {
   "cell_type": "code",
   "execution_count": 11,
   "metadata": {},
   "outputs": [
    {
     "ename": "NameError",
     "evalue": "name 'gdbr' is not defined",
     "output_type": "error",
     "traceback": [
      "\u001b[0;31m---------------------------------------------------------------------------\u001b[0m",
      "\u001b[0;31mNameError\u001b[0m                                 Traceback (most recent call last)",
      "\u001b[0;32m<ipython-input-11-ece2d7f4103f>\u001b[0m in \u001b[0;36m<module>\u001b[0;34m\u001b[0m\n\u001b[0;32m----> 1\u001b[0;31m \u001b[0mchurn_eval\u001b[0m\u001b[0;34m.\u001b[0m\u001b[0mstage_score_plot\u001b[0m\u001b[0;34m(\u001b[0m\u001b[0mGradientBoostingRegressor\u001b[0m\u001b[0;34m,\u001b[0m \u001b[0mXtrain\u001b[0m\u001b[0;34m,\u001b[0m \u001b[0mytrain\u001b[0m\u001b[0;34m,\u001b[0m \u001b[0mXtest\u001b[0m\u001b[0;34m,\u001b[0m \u001b[0mytest\u001b[0m\u001b[0;34m)\u001b[0m\u001b[0;34m\u001b[0m\u001b[0;34m\u001b[0m\u001b[0m\n\u001b[0m",
      "\u001b[0;32m~/galvanize/week6/churn_case_study/churn_eval.py\u001b[0m in \u001b[0;36mstage_score_plot\u001b[0;34m(estimator, Xtrain, ytrain, Xtest, ytest)\u001b[0m\n\u001b[1;32m     82\u001b[0m     \u001b[0max\u001b[0m\u001b[0;34m.\u001b[0m\u001b[0mset_xlabel\u001b[0m\u001b[0;34m(\u001b[0m\u001b[0;34m\"Iterations\"\u001b[0m\u001b[0;34m)\u001b[0m\u001b[0;34m\u001b[0m\u001b[0;34m\u001b[0m\u001b[0m\n\u001b[1;32m     83\u001b[0m \u001b[0;34m\u001b[0m\u001b[0m\n\u001b[0;32m---> 84\u001b[0;31m     \u001b[0mplt\u001b[0m\u001b[0;34m.\u001b[0m\u001b[0mlegend\u001b[0m\u001b[0;34m(\u001b[0m\u001b[0;34m[\u001b[0m\u001b[0;34mf\"{model.__class__.__name__} Train - learning rate 0.1\"\u001b[0m\u001b[0;34m,\u001b[0m \u001b[0;34mf\"{model.__class__.__name__} Test - learning rate 0.1\"\u001b[0m\u001b[0;34m]\u001b[0m\u001b[0;34m)\u001b[0m\u001b[0;34m\u001b[0m\u001b[0;34m\u001b[0m\u001b[0m\n\u001b[0m\u001b[1;32m     85\u001b[0m     \u001b[0mplt\u001b[0m\u001b[0;34m.\u001b[0m\u001b[0mshow\u001b[0m\u001b[0;34m(\u001b[0m\u001b[0;34m)\u001b[0m\u001b[0;34m\u001b[0m\u001b[0;34m\u001b[0m\u001b[0m\n\u001b[1;32m     86\u001b[0m \u001b[0;34m\u001b[0m\u001b[0m\n",
      "\u001b[0;31mNameError\u001b[0m: name 'gdbr' is not defined"
     ]
    },
    {
     "data": {
      "image/png": "[encoded data removed]",
      "text/plain": [
       "<Figure size 1440x576 with 1 Axes>"
      ]
     },
     "metadata": {},
     "output_type": "display_data"
    }
   ],
   "source": [
    "churn_eval.stage_score_plot(GradientBoostingRegressor, Xtrain, ytrain, Xtest, ytest)"
   ]
  },
  {
   "cell_type": "code",
   "execution_count": null,
   "metadata": {},
   "outputs": [],
   "source": []
  },
  {
   "cell_type": "code",
   "execution_count": null,
   "metadata": {},
   "outputs": [],
   "source": []
  },
  {
   "cell_type": "code",
   "execution_count": null,
   "metadata": {},
   "outputs": [],
   "source": []
  },
  {
   "cell_type": "code",
   "execution_count": null,
   "metadata": {},
   "outputs": [],
   "source": []
  },
  {
   "cell_type": "code",
   "execution_count": null,
   "metadata": {},
   "outputs": [],
   "source": []
  },
  {
   "cell_type": "code",
   "execution_count": null,
   "metadata": {},
   "outputs": [],
   "source": [
    "# GridSearchCV\n",
    "\n",
    "'''>>> from sklearn import svm, datasets\n",
    ">>> from sklearn.model_selection import GridSearchCV\n",
    ">>> iris = datasets.load_iris()\n",
    ">>> parameters = {'kernel':('linear', 'rbf'), 'C':[1, 10]}\n",
    ">>> svc = svm.SVC(gamma=\"scale\")\n",
    ">>> clf = GridSearchCV(svc, parameters, cv=5)\n",
    ">>> clf.fit(iris.data, iris.target)'''"
   ]
  }
 ],
 "metadata": {
  "kernelspec": {
   "display_name": "Python 3",
   "language": "python",
   "name": "python3"
  },
  "language_info": {
   "codemirror_mode": {
    "name": "ipython",
    "version": 3
   },
   "file_extension": ".py",
   "mimetype": "text/x-python",
   "name": "python",
   "nbconvert_exporter": "python",
   "pygments_lexer": "ipython3",
   "version": "3.7.1"
  }
 },
 "nbformat": 4,
 "nbformat_minor": 2
}
